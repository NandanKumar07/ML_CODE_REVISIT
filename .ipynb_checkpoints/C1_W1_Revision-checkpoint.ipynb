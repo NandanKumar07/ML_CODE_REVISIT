{
 "cells": [
  {
   "cell_type": "markdown",
   "id": "4d2cb8fe",
   "metadata": {},
   "source": [
    "## Univariate Linear Regression, Cost Function & Gradient Descent"
   ]
  },
  {
   "cell_type": "code",
   "execution_count": 1,
   "id": "06e5ccc7",
   "metadata": {},
   "outputs": [],
   "source": [
    "# importing Libraries\n",
    "\n",
    "import numpy as np\n",
    "import pandas as pd\n",
    "import matplotlib.pyplot as plt\n",
    "import seaborn as sns"
   ]
  },
  {
   "cell_type": "code",
   "execution_count": 2,
   "id": "abb54fa1",
   "metadata": {},
   "outputs": [],
   "source": [
    "# Loading the Data :- size(in 1000 Acre), Price(in 1000 Dollars)\n",
    "\n",
    "x_train = np.array([50, 20, 40, 30, 90, 120, 73, 24, 89, 100])\n",
    "y_train = np.array([150, 70, 120, 90, 290, 340, 260, 85, 275, 300])"
   ]
  },
  {
   "cell_type": "code",
   "execution_count": 3,
   "id": "466c2017",
   "metadata": {},
   "outputs": [
    {
     "data": {
      "text/plain": [
       "10"
      ]
     },
     "execution_count": 3,
     "metadata": {},
     "output_type": "execute_result"
    }
   ],
   "source": [
    "m = x_train.shape[0]\n",
    "m"
   ]
  },
  {
   "cell_type": "code",
   "execution_count": 4,
   "id": "3b7e5930",
   "metadata": {},
   "outputs": [
    {
     "data": {
      "text/plain": [
       "Text(0, 0.5, 'Price(in 1000 Dollars)')"
      ]
     },
     "execution_count": 4,
     "metadata": {},
     "output_type": "execute_result"
    },
    {
     "data": {
      "image/png": "[encoded data removed]",
      "text/plain": [
       "<Figure size 640x480 with 1 Axes>"
      ]
     },
     "metadata": {},
     "output_type": "display_data"
    }
   ],
   "source": [
    "plt.scatter(x_train, y_train, marker = 'x', c = 'b')\n",
    "plt.title(\"House size VS Price\")\n",
    "plt.xlabel(\"Size(in 1000's Acre)\")\n",
    "plt.ylabel(\"Price(in 1000 Dollars)\")"
   ]
  },
  {
   "cell_type": "code",
   "execution_count": 5,
   "id": "38e18618",
   "metadata": {},
   "outputs": [],
   "source": [
    "# Computing the Cost\n",
    "\n",
    "def computing_cost(x, y, w, b):\n",
    "    m = x.shape[0]\n",
    "    total_cost = 0\n",
    "    for i in range(m):\n",
    "        fwb = w*x[i] + b\n",
    "        total_cost += (fwb - y[i])**2\n",
    "    total_cost = total_cost/(2*m)\n",
    "    \n",
    "    return total_cost"
   ]
  },
  {
   "cell_type": "code",
   "execution_count": 6,
   "id": "84c457c6",
   "metadata": {},
   "outputs": [],
   "source": [
    "# Computing Gradient\n",
    "\n",
    "def compute_gradient(x, y, w, b):\n",
    "    m = x.shape[0]\n",
    "    dj_dw = 0\n",
    "    dj_db = 0\n",
    "    \n",
    "    for i in range(m):\n",
    "        fwb = w*x[i] + b\n",
    "        dj_dw_i = (fwb - y[i])*x[i]\n",
    "        dj_db_i = (fwb - y[i])\n",
    "        dj_dw += dj_dw_i\n",
    "        dj_db += dj_db_i\n",
    "    \n",
    "    dj_dw = dj_dw/m\n",
    "    dj_db = dj_db/m\n",
    "    return dj_dw, dj_db"
   ]
  },
  {
   "cell_type": "code",
   "execution_count": 7,
   "id": "f2ef26b4",
   "metadata": {},
   "outputs": [],
   "source": [
    "# Computing Gradient Descent\n",
    "\n",
    "def gradient_descent(x, y, w_in, b_in, alpha, num_iters, compute_gradient):\n",
    "    \n",
    "    w = w_in\n",
    "    b = b_in\n",
    "    \n",
    "    for i in range(num_iters):\n",
    "        dj_dw, dj_db = compute_gradient(x, y, w, b)\n",
    "        b = b - alpha * dj_db\n",
    "        w = w - alpha * dj_dw\n",
    "    \n",
    "    return w,b\n",
    "    "
   ]
  },
  {
   "cell_type": "code",
   "execution_count": 8,
   "id": "986a8cdd",
   "metadata": {},
   "outputs": [
    {
     "data": {
      "text/plain": [
       "(3.0391512522244017, 2.5033548046931893)"
      ]
     },
     "execution_count": 8,
     "metadata": {},
     "output_type": "execute_result"
    }
   ],
   "source": [
    "w = 0\n",
    "b = 0\n",
    "alpha = 1.0e-4\n",
    "num_iters = 10000\n",
    "w_final, b_final = gradient_descent(x_train, y_train, w, b, alpha, num_iters, compute_gradient)\n",
    "w_final, b_final"
   ]
  },
  {
   "cell_type": "code",
   "execution_count": 9,
   "id": "fd51165f",
   "metadata": {},
   "outputs": [
    {
     "name": "stdout",
     "output_type": "stream",
     "text": [
      "100\n",
      "306.41848002713334\n"
     ]
    }
   ],
   "source": [
    "# Predicting the Price(in 1000's of Dollars) of the house given as size (in 1000's of Acre's).\n",
    "\n",
    "test_size = float(input())\n",
    "result = w_final * test_size + b_final\n",
    "print(result)"
   ]
  },
  {
   "cell_type": "code",
   "execution_count": null,
   "id": "2e14b12f",
   "metadata": {},
   "outputs": [],
   "source": []
  }
 ],
 "metadata": {
  "kernelspec": {
   "display_name": "Python 3 (ipykernel)",
   "language": "python",
   "name": "python3"
  },
  "language_info": {
   "codemirror_mode": {
    "name": "ipython",
    "version": 3
   },
   "file_extension": ".py",
   "mimetype": "text/x-python",
   "name": "python",
   "nbconvert_exporter": "python",
   "pygments_lexer": "ipython3",
   "version": "3.10.7"
  }
 },
 "nbformat": 4,
 "nbformat_minor": 5
}
