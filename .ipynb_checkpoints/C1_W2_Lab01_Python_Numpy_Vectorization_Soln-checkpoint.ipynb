{
 "cells": [
  {
   "cell_type": "markdown",
   "id": "1399a551",
   "metadata": {},
   "source": [
    "## Python, Numpy & Vectorization"
   ]
  },
  {
   "cell_type": "code",
   "execution_count": 1,
   "id": "7be26940",
   "metadata": {},
   "outputs": [],
   "source": [
    "import numpy as np\n",
    "import time"
   ]
  },
  {
   "cell_type": "markdown",
   "id": "6ed45d2d",
   "metadata": {},
   "source": [
    "## Goals: - \n",
    "    Reviewing the features of Numpy & Python that are used in Course 1"
   ]
  },
  {
   "cell_type": "markdown",
   "id": "754ec117",
   "metadata": {},
   "source": [
    "### Vector Creation:- "
   ]
  },
  {
   "cell_type": "code",
   "execution_count": 2,
   "id": "054a626f",
   "metadata": {},
   "outputs": [
    {
     "name": "stdout",
     "output_type": "stream",
     "text": [
      "np.zeros(4) :   a = [0. 0. 0. 0.], a shape = (4,), a data type = float64\n",
      "np.zeros(4,) :  a = [0. 0. 0. 0.], a shape = (4,), a data type = float64\n",
      "np.random.random_sample(4): a = [0.37921011 0.47948226 0.28463093 0.59816714], a shape = (4,), a data type = float64\n"
     ]
    }
   ],
   "source": [
    "# Numpy routines which allocate memory and fill arrays with value\n",
    "a = np.zeros(4);                 print(f\"np.zeros(4) :   a = {a}, a shape = {a.shape}, a data type = {a.dtype}\")\n",
    "a = np.zeros((4,));              print(f\"np.zeros(4,) :  a = {a}, a shape = {a.shape}, a data type = {a.dtype}\")\n",
    "a = np.random.random_sample(4);  print(f\"np.random.random_sample(4): a = {a}, a shape = {a.shape}, a data type = {a.dtype}\")"
   ]
  },
  {
   "cell_type": "markdown",
   "id": "f8c90a46",
   "metadata": {},
   "source": [
    "Some data routines does not take a shape tuple:"
   ]
  },
  {
   "cell_type": "code",
   "execution_count": 3,
   "id": "8f26f045",
   "metadata": {},
   "outputs": [
    {
     "name": "stdout",
     "output_type": "stream",
     "text": [
      "np.arange(4.) :   a = [0. 1. 2. 3.], a shape = (4,), a data type = float64\n",
      "np.random.rand(4): a = [0.10760135 0.29047003 0.08756918 0.92186178], a shape = (4,), a data type = float64\n"
     ]
    }
   ],
   "source": [
    "a = np.arange(4.);        print(f\"np.arange(4.) :   a = {a}, a shape = {a.shape}, a data type = {a.dtype}\")\n",
    "a = np.random.rand(4);    print(f\"np.random.rand(4): a = {a}, a shape = {a.shape}, a data type = {a.dtype}\")"
   ]
  },
  {
   "cell_type": "markdown",
   "id": "7194d04a",
   "metadata": {},
   "source": [
    "values can be specified manually as well."
   ]
  },
  {
   "cell_type": "code",
   "execution_count": 5,
   "id": "494878ad",
   "metadata": {},
   "outputs": [
    {
     "name": "stdout",
     "output_type": "stream",
     "text": [
      "np.array([5, 4, 3, 2]) : a = [5 4 3 2], a shape = (4,), a data type = int32\n",
      "np.array([5., 4, 3, 2]): a = [5. 4. 3. 2.], a shape = (4,), a data type = float64\n"
     ]
    }
   ],
   "source": [
    "a = np.array([5, 4, 3, 2]);    print(f\"np.array([5, 4, 3, 2]) : a = {a}, a shape = {a.shape}, a data type = {a.dtype}\")\n",
    "a = np.array([5.,4,3,2]);      print(f\"np.array([5., 4, 3, 2]): a = {a}, a shape = {a.shape}, a data type = {a.dtype}\")"
   ]
  },
  {
   "cell_type": "markdown",
   "id": "5d0f9f2d",
   "metadata": {},
   "source": [
    "### Indexing:- "
   ]
  },
  {
   "cell_type": "code",
   "execution_count": 6,
   "id": "3a48dbae",
   "metadata": {},
   "outputs": [
    {
     "name": "stdout",
     "output_type": "stream",
     "text": [
      "[0 1 2 3 4 5 6 7 8 9]\n",
      "a[2] : 2, a[-1] : 9, a[-5] : 5, a[2].shape:- ()\n",
      "The error occurring is: \n",
      "index 10 is out of bounds for axis 0 with size 10\n"
     ]
    }
   ],
   "source": [
    "a = np.arange(10)\n",
    "print(a)\n",
    "\n",
    "# accessing an element\n",
    "print(f\"a[2] : {a[2]}, a[-1] : {a[-1]}, a[-5] : {a[-5]}, a[2].shape:- {a[2].shape}\")\n",
    "      \n",
    "# indexes should not be out of bound or range\n",
    "try:\n",
    "    c = a[10]\n",
    "except Exception as e:\n",
    "    print(\"The error occurring is: \")\n",
    "    print(e)"
   ]
  },
  {
   "cell_type": "markdown",
   "id": "b0d1fd8c",
   "metadata": {},
   "source": [
    "### Slicing:- "
   ]
  },
  {
   "cell_type": "code",
   "execution_count": 8,
   "id": "3db8aca1",
   "metadata": {},
   "outputs": [
    {
     "name": "stdout",
     "output_type": "stream",
     "text": [
      "a     = [0 1 2 3 4 5 6 7 8 9]\n",
      "c =   [2 3 4 5 6]\n",
      "a[2:7:2] =  [2 4 6]\n",
      "a[3:]    =  [3 4 5 6 7 8 9]\n",
      "a[:3]    =  [0 1 2]\n",
      "a[:]     =  [0 1 2 3 4 5 6 7 8 9]\n"
     ]
    }
   ],
   "source": [
    "a = np.arange(10)\n",
    "print(f\"a     = {a}\")\n",
    "\n",
    "# accessing five consecutive elements [start: stop: step]\n",
    "c = a[2: 7: 1];    print(f\"c =   {c}\")\n",
    "\n",
    "# access 3 elements separated by two \n",
    "c = a[2:7:2];     print(\"a[2:7:2] = \", c)\n",
    "\n",
    "# access all elements index 3 and above\n",
    "c = a[3:];        print(\"a[3:]    = \", c)\n",
    "\n",
    "# access all elements below index 3\n",
    "c = a[:3];        print(\"a[:3]    = \", c)\n",
    "\n",
    "# access all elements\n",
    "c = a[:];         print(\"a[:]     = \", c)"
   ]
  },
  {
   "cell_type": "markdown",
   "id": "6b35c011",
   "metadata": {},
   "source": [
    "### Single Vector Operations"
   ]
  },
  {
   "cell_type": "code",
   "execution_count": 9,
   "id": "e8254e80",
   "metadata": {},
   "outputs": [
    {
     "name": "stdout",
     "output_type": "stream",
     "text": [
      "a       = [1 2 3 4]\n",
      "b = -a : [-1 -2 -3 -4]\n",
      "b = np.sum(a):   10\n",
      "b = np.mean(a):   2.5\n",
      "b = a**2:      [ 1  4  9 16]\n"
     ]
    }
   ],
   "source": [
    "a = np.array([1, 2, 3, 4])\n",
    "print(f\"a       = {a}\")\n",
    "\n",
    "b = -a\n",
    "print(f\"b = -a : {b}\")\n",
    "\n",
    "b = np.sum(a)\n",
    "print(f\"b = np.sum(a):   {b}\")\n",
    "\n",
    "b = np.mean(a)\n",
    "print(f\"b = np.mean(a):   {b}\")\n",
    "\n",
    "b = a**2\n",
    "print(f\"b = a**2:      {b}\")"
   ]
  },
  {
   "cell_type": "markdown",
   "id": "bc735020",
   "metadata": {},
   "source": [
    "### Vector - Vector Element wise operations:- "
   ]
  },
  {
   "cell_type": "code",
   "execution_count": 11,
   "id": "d230d980",
   "metadata": {},
   "outputs": [
    {
     "name": "stdout",
     "output_type": "stream",
     "text": [
      "Binary operators work element wise: [ 4  7  9 11]\n"
     ]
    }
   ],
   "source": [
    "a = np.array([1, 2, 3, 4])\n",
    "b = np.array([3, 5, 6, 7])\n",
    "\n",
    "print(f\"Binary operators work element wise: {a + b}\")"
   ]
  },
  {
   "cell_type": "code",
   "execution_count": 12,
   "id": "cbb7cc1c",
   "metadata": {},
   "outputs": [
    {
     "name": "stdout",
     "output_type": "stream",
     "text": [
      "The error message you will see is: \n",
      "operands could not be broadcast together with shapes (4,) (2,) \n"
     ]
    }
   ],
   "source": [
    "# try a mismatched vector operations\n",
    "c = np.array([1, 2])\n",
    "try:\n",
    "    d = a + c\n",
    "except Exception as e:\n",
    "    print(\"The error message you will see is: \")\n",
    "    print(e)"
   ]
  },
  {
   "cell_type": "markdown",
   "id": "1d88ddc0",
   "metadata": {},
   "source": [
    "### Scalar vector Operations: "
   ]
  },
  {
   "cell_type": "code",
   "execution_count": 13,
   "id": "ec41fa9c",
   "metadata": {},
   "outputs": [
    {
     "name": "stdout",
     "output_type": "stream",
     "text": [
      "b = 5 * a : [ 5 10 15 20]\n"
     ]
    }
   ],
   "source": [
    "a = np.array([1, 2, 3, 4])\n",
    "\n",
    "# multiply a by a scalar\n",
    "b = 5 * a \n",
    "print(f\"b = 5 * a : {b}\")"
   ]
  },
  {
   "cell_type": "markdown",
   "id": "27b85a3a",
   "metadata": {},
   "source": [
    "### Vector - Vector Dot Product"
   ]
  },
  {
   "cell_type": "code",
   "execution_count": 16,
   "id": "644efc79",
   "metadata": {},
   "outputs": [],
   "source": [
    "# doing manually\n",
    "def dot_product(a, b):\n",
    "    ans = 0\n",
    "    for i in range(a.shape[0]):\n",
    "        ans += a[i] * b[i]\n",
    "    \n",
    "    return ans"
   ]
  },
  {
   "cell_type": "code",
   "execution_count": 17,
   "id": "cb238a99",
   "metadata": {},
   "outputs": [
    {
     "data": {
      "text/plain": [
       "50"
      ]
     },
     "execution_count": 17,
     "metadata": {},
     "output_type": "execute_result"
    }
   ],
   "source": [
    "a = np.array([1,2,3,4])\n",
    "b = np.array([3,4,5,6])\n",
    "c = dot_product(a, b)\n",
    "c"
   ]
  },
  {
   "cell_type": "code",
   "execution_count": 18,
   "id": "4683db42",
   "metadata": {},
   "outputs": [
    {
     "data": {
      "text/plain": [
       "50"
      ]
     },
     "execution_count": 18,
     "metadata": {},
     "output_type": "execute_result"
    }
   ],
   "source": [
    "# using np.dot\n",
    "\n",
    "c = np.dot(a,b)\n",
    "c"
   ]
  },
  {
   "cell_type": "markdown",
   "id": "11a3f21b",
   "metadata": {},
   "source": [
    "### The Need for speed: Vector vs For loop"
   ]
  },
  {
   "cell_type": "code",
   "execution_count": 19,
   "id": "fab47687",
   "metadata": {},
   "outputs": [
    {
     "name": "stdout",
     "output_type": "stream",
     "text": [
      "np.dot(a, b) =  2501072.5817\n",
      "Vectorized version duration: 6.4960 ms \n",
      "dot_product(a, b) =  2501072.5817\n",
      "loop version duration: 2751.0970 ms \n"
     ]
    }
   ],
   "source": [
    "np.random.seed(1)\n",
    "a = np.random.rand(10000000)\n",
    "b = np.random.rand(10000000)\n",
    "\n",
    "tic = time.time()\n",
    "c = np.dot(a, b)\n",
    "toc = time.time()\n",
    "\n",
    "print(f\"np.dot(a, b) =  {c:.4f}\")\n",
    "print(f\"Vectorized version duration: {1000*(toc-tic):.4f} ms \")\n",
    "\n",
    "tic = time.time()\n",
    "c = dot_product(a, b)\n",
    "toc = time.time()\n",
    "\n",
    "print(f\"dot_product(a, b) =  {c:.4f}\")\n",
    "print(f\"loop version duration: {1000*(toc-tic):.4f} ms \")\n",
    "\n",
    "del(a);\n",
    "del(b);"
   ]
  },
  {
   "cell_type": "markdown",
   "id": "eaf7fdb2",
   "metadata": {},
   "source": [
    "### Vector - Vector Operations"
   ]
  },
  {
   "cell_type": "code",
   "execution_count": 20,
   "id": "4f7d8ffd",
   "metadata": {},
   "outputs": [
    {
     "name": "stdout",
     "output_type": "stream",
     "text": [
      "X[1] has shape (1,)\n",
      "w has shape (1,)\n",
      "c has shape ()\n"
     ]
    }
   ],
   "source": [
    "X = np.array([[1],[2],[3],[4]])\n",
    "w = np.array([2])\n",
    "c = np.dot(X[1], w)\n",
    "\n",
    "print(f\"X[1] has shape {X[1].shape}\")\n",
    "print(f\"w has shape {w.shape}\")\n",
    "print(f\"c has shape {c.shape}\")"
   ]
  },
  {
   "cell_type": "markdown",
   "id": "34c18927",
   "metadata": {},
   "source": [
    "### Matrix Creation"
   ]
  },
  {
   "cell_type": "code",
   "execution_count": 23,
   "id": "2af2d893",
   "metadata": {},
   "outputs": [
    {
     "name": "stdout",
     "output_type": "stream",
     "text": [
      "[[0. 0. 0. 0. 0.]]\n",
      "[[0.]\n",
      " [0.]]\n",
      "[[0.44236513]]\n"
     ]
    }
   ],
   "source": [
    "a = np.zeros((1,5))\n",
    "print(a)\n",
    "\n",
    "a = np.zeros((2, 1))                                                                   \n",
    "print(a) \n",
    "\n",
    "a = np.random.random_sample((1, 1))  \n",
    "print(a) "
   ]
  },
  {
   "cell_type": "code",
   "execution_count": 27,
   "id": "978c636c",
   "metadata": {},
   "outputs": [
    {
     "name": "stdout",
     "output_type": "stream",
     "text": [
      "[[1 2 3]\n",
      " [3 4 5]\n",
      " [6 7 8]]\n",
      "(3, 3)\n"
     ]
    }
   ],
   "source": [
    "# Manually Specifying Data\n",
    "a = np.array([[1, 2, 3],\n",
    "             [3, 4, 5],\n",
    "             [6, 7, 8]])\n",
    "print(a)\n",
    "print(a.shape)"
   ]
  },
  {
   "cell_type": "markdown",
   "id": "20652ee4",
   "metadata": {},
   "source": [
    "### Operation On Matrices"
   ]
  },
  {
   "cell_type": "code",
   "execution_count": 30,
   "id": "fe3d4694",
   "metadata": {},
   "outputs": [
    {
     "name": "stdout",
     "output_type": "stream",
     "text": [
      "a.shape: (3, 2), \n",
      "a= [[0 1]\n",
      " [2 3]\n",
      " [4 5]]\n",
      "\n",
      "a[2,0].shape:   (), a[2,0] = 4,     type(a[2,0]) = <class 'numpy.int32'> Accessing an element returns a scalar\n",
      "\n",
      "a[2].shape:   (2,), a[2]   = [4 5], type(a[2])   = <class 'numpy.ndarray'>\n"
     ]
    }
   ],
   "source": [
    "a = np.arange(6).reshape(-1, 2)   #reshape is a convenient way to create matrices\n",
    "print(f\"a.shape: {a.shape}, \\na= {a}\")\n",
    "\n",
    "#access an element\n",
    "print(f\"\\na[2,0].shape:   {a[2, 0].shape}, a[2,0] = {a[2, 0]},     type(a[2,0]) = {type(a[2, 0])} Accessing an element returns a scalar\\n\")\n",
    "\n",
    "#access a row\n",
    "print(f\"a[2].shape:   {a[2].shape}, a[2]   = {a[2]}, type(a[2])   = {type(a[2])}\")"
   ]
  },
  {
   "cell_type": "markdown",
   "id": "142244cb",
   "metadata": {},
   "source": [
    "### Slicing"
   ]
  },
  {
   "cell_type": "code",
   "execution_count": 31,
   "id": "bb3bb3a8",
   "metadata": {},
   "outputs": [
    {
     "name": "stdout",
     "output_type": "stream",
     "text": [
      "a = \n",
      "[[ 0  1  2  3  4  5  6  7  8  9]\n",
      " [10 11 12 13 14 15 16 17 18 19]]\n",
      "a[0, 2:7:1] =  [2 3 4 5 6] ,  a[0, 2:7:1].shape = (5,) a 1-D array\n",
      "a[:, 2:7:1] = \n",
      " [[ 2  3  4  5  6]\n",
      " [12 13 14 15 16]] ,  a[:, 2:7:1].shape = (2, 5) a 2-D array\n",
      "a[:,:] = \n",
      " [[ 0  1  2  3  4  5  6  7  8  9]\n",
      " [10 11 12 13 14 15 16 17 18 19]] ,  a[:,:].shape = (2, 10)\n",
      "a[1,:] =  [10 11 12 13 14 15 16 17 18 19] ,  a[1,:].shape = (10,) a 1-D array\n",
      "a[1]   =  [10 11 12 13 14 15 16 17 18 19] ,  a[1].shape   = (10,) a 1-D array\n"
     ]
    }
   ],
   "source": [
    "#vector 2-D slicing operations\n",
    "a = np.arange(20).reshape(-1, 10)\n",
    "print(f\"a = \\n{a}\")\n",
    "\n",
    "#access 5 consecutive elements (start:stop:step)\n",
    "print(\"a[0, 2:7:1] = \", a[0, 2:7:1], \",  a[0, 2:7:1].shape =\", a[0, 2:7:1].shape, \"a 1-D array\")\n",
    "\n",
    "#access 5 consecutive elements (start:stop:step) in two rows\n",
    "print(\"a[:, 2:7:1] = \\n\", a[:, 2:7:1], \",  a[:, 2:7:1].shape =\", a[:, 2:7:1].shape, \"a 2-D array\")\n",
    "\n",
    "# access all elements\n",
    "print(\"a[:,:] = \\n\", a[:,:], \",  a[:,:].shape =\", a[:,:].shape)\n",
    "\n",
    "# access all elements in one row (very common usage)\n",
    "print(\"a[1,:] = \", a[1,:], \",  a[1,:].shape =\", a[1,:].shape, \"a 1-D array\")\n",
    "# same as\n",
    "print(\"a[1]   = \", a[1],   \",  a[1].shape   =\", a[1].shape, \"a 1-D array\")\n"
   ]
  },
  {
   "cell_type": "code",
   "execution_count": null,
   "id": "b827d54c",
   "metadata": {},
   "outputs": [],
   "source": []
  }
 ],
 "metadata": {
  "kernelspec": {
   "display_name": "Python 3 (ipykernel)",
   "language": "python",
   "name": "python3"
  },
  "language_info": {
   "codemirror_mode": {
    "name": "ipython",
    "version": 3
   },
   "file_extension": ".py",
   "mimetype": "text/x-python",
   "name": "python",
   "nbconvert_exporter": "python",
   "pygments_lexer": "ipython3",
   "version": "3.10.7"
  }
 },
 "nbformat": 4,
 "nbformat_minor": 5
}
